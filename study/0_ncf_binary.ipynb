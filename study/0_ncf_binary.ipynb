{
 "cells": [
  {
   "cell_type": "markdown",
   "id": "3001a860",
   "metadata": {},
   "source": [
    "# FEATURE-ENHANCED NEURAL NETWORK FOR MOVIE RECOMMENDATIONS\n",
    "\n",
    "---\n",
    "\n",
    "**Executive Summary**\n",
    "\n",
    "This project implements a **Feature-Enhanced Neural Network** for movie recommendation systems using the MovieLens-1M dataset. The model leverages deep learning to combine user demographics and movie content features, providing personalized recommendations with negative sampling and temporal validation. \n",
    "\n",
    "**Key Implementation Features**\n",
    "- **Feature-Enhanced Architecture**: Combines user demographics with movie content features\n",
    "- **Temporal Validation**: Uses proper time-based splits to simulate realistic evaluation scenarios  \n",
    "- **Cold Start Implementation**: Provides recommendations for new users using demographic information\n",
    "- **Training Infrastructure**: Includes early stopping, model checkpointing, and comprehensive metrics tracking\n",
    "\n",
    "---\n",
    "\n",
    "**System Architecture**\n",
    "\n",
    "- Feature Engineering (left): `User Demographics` and `Movie Metadata` are ingested by the `Feature Processor`, producing two fixed-size vectors: `User Features` with 29 dimensions and `Movie Features` with 768 dimensions. These sizes correspond to the notebook outputs `user_feature_dim=29` and `movie_feature_dim=768`.\n",
    "- Model Architecture (bottom): User features pass through fully connected layers 128→64; movie features pass through 256→128→64. The two 64‑D embeddings are concatenated and fed to a deep network 128→64→32→1 with a sigmoid output for binary relevance.\n",
    "- Data Pipeline (right): `MovieLens‑1M Dataset` → `Data Preprocessing` → `Temporal Split`, branching into `Training Set`, `Validation Set`, and `Test Set` following the rank‑based split: training uses all but the last two interactions per user, validation uses the penultimate, and test uses the latest.\n",
    "\n",
    "![System Architecture](images/archictecture.png)\n",
    "\n",
    "\n",
    "---\n",
    "\n",
    "**Dataset Overview**\n",
    "\n",
    "**MovieLens-1M Dataset**\n",
    "- **1,000,209 ratings** from 6,040 users on 3,900 movies\n",
    "- **User Demographics**: Age, gender, occupation, zip code\n",
    "- **Movie Metadata**: Title, genres, release year  \n",
    "- **Rating Scale**: 1-5 stars (converted to binary: 4-5 = positive)\n",
    "\n",
    "**Data Split Strategy**\n",
    "- All user interactions are sorted by timestamp and split per user: `Training` contains all ratings except the last two, `Validation` contains the penultimate rating, and `Test` contains the most recent rating. This prevents temporal leakage and matches the rank‑based implementation in the notebook (`rank_latest` with 1=latest, 2=penultimate).\n",
    "\n",
    "<img src=\"images/split_strategy.png\" width=\"550\">\n",
    "\n",
    "---\n",
    "\n",
    "**Model Architecture Details**\n",
    "\n",
    "**Feature Processing Pipeline**\n",
    "- User side: demographics are encoded into embeddings and passed through fully connected layers 128→64. The output is a 64‑D user representation.\n",
    "- Movie side: title embeddings (768‑D) plus one‑hot genres are processed through 256→128→64 layers, yielding a 64‑D movie representation.\n",
    "- Fusion: the two 64‑D vectors are concatenated and fed to a downstream MLP 128→64→32→1 with sigmoid, aligning with the binary target used in this notebook.\n",
    "\n",
    "![Model Archictecture](images/model_archictecture.png)\n",
    "\n",
    "\n",
    "---\n",
    "\n",
    "**Expected Outcomes**\n",
    "\n",
    "**Performance Metrics**\n",
    "- **Hit Ratio @ 10**: Percentage of users with relevant items in top-10 recommendations\n",
    "- **Mean Reciprocal Rank (MRR)**: Average reciprocal rank of the first relevant item\n",
    "- **Mean Rank**: Average position of relevant items in recommendation lists\n",
    "\n",
    "---"
   ]
  },
  {
   "cell_type": "markdown",
   "id": "a492cb72",
   "metadata": {},
   "source": [
    "## IMPORTS\n",
    "\n",
    "This section we imports the necessary libraries and variables to run the notebook."
   ]
  },
  {
   "cell_type": "markdown",
   "id": "6f0149bb",
   "metadata": {},
   "source": [
    "### Libraries"
   ]
  },
  {
   "cell_type": "code",
   "execution_count": 176,
   "id": "2dab989d",
   "metadata": {},
   "outputs": [
    {
     "name": "stdout",
     "output_type": "stream",
     "text": [
      "The autoreload extension is already loaded. To reload it, use:\n",
      "  %reload_ext autoreload\n"
     ]
    }
   ],
   "source": [
    "%load_ext autoreload\n",
    "%autoreload 2\n",
    "\n",
    "import os\n",
    "import numpy as np\n",
    "import pandas as pd\n",
    "import torch \n",
    "\n",
    "from tqdm.notebook import tqdm\n",
    "from ncf_trainer import NCFTrainer\n",
    "from feature_processor import FeatureProcessor\n",
    "\n",
    "from candidate_generator import CandidateGenerator\n",
    "from validate_model import validate_model_with_features\n",
    "from ncf import NCF\n",
    "from cold_start import ColdStartRecommender\n",
    "\n",
    "np.random.seed(123)\n",
    "\n",
    "os.environ[\"TOKENIZERS_PARALLELISM\"] = \"false\"\n"
   ]
  },
  {
   "cell_type": "markdown",
   "id": "99fd3d9e",
   "metadata": {},
   "source": [
    "### Control Variables"
   ]
  },
  {
   "cell_type": "code",
   "execution_count": 157,
   "id": "4f13aa25",
   "metadata": {},
   "outputs": [],
   "source": [
    "SAMPLE=False\n",
    "NUM_EPOCHS = 100\n",
    "DEBUG=False"
   ]
  },
  {
   "cell_type": "markdown",
   "id": "637c3e3a",
   "metadata": {},
   "source": [
    "---\n",
    "\n",
    "## TRAINING  \n",
    "\n",
    "This section we show all the process of the traning pipeline, from the training strategy, dataset loading untill the model optimization.\n",
    "\n",
    "\n",
    "###  Training Strategy\n",
    "\n",
    "- The flow shows: `Data Preparation` → `Candidate Generation` → `Negative Sampling` → `Feature Processing` → `Model Training` ↔ `Validation` with an `Early Stopping?` decision. If not stopped, training continues; if stopped, we `Save Best Model` and run `Final Evaluation`. The left sidebar highlights advanced features used here: Early Stopping (patience=20 by design, we used 2 for a quick demo), ReduceLROnPlateau scheduling, checkpointing best weights, and metrics Hit Ratio, MRR, Mean Rank.\n",
    "\n",
    "![Training Strategy](images/training_pipeline.png)\n",
    "\n",
    "### Training Configuration\n",
    "\n",
    "| Parameter | Value | Purpose |\n",
    "|-----------|--------|---------|\n",
    "| **Epochs** | 100 | Maximum training iterations |\n",
    "| **Batch Size** | 512 | Efficient GPU utilization |\n",
    "| **Learning Rate** | Adam optimizer | Adaptive learning |\n",
    "| **Early Stopping** | 20 epochs patience | Prevent overfitting |\n",
    "| **Validation Users** | 500 | Quick validation feedback |\n",
    "| **Negative Samples** | 4 per positive | Balanced training |\n",
    "\n",
    "### Negative Sampling Strategy\n",
    "\n",
    "- Candidate generation branches into three sources: popularity‑based, collaborative‑based, and content‑based. These are merged into `Hybrid Candidates`, from which negatives are sampled for each user.\n",
    "- During training dataset construction (see training logs), we generated 1,582,881 samples with a negative‑to‑positive ratio of ~0.60, reflecting 4 negatives per positive target around validation.\n",
    "- This diagram corresponds to our `CandidateGenerator` methods: popularity counts, user‑item co‑occurrence, and content similarity, combined before sampling.\n",
    "\n",
    "![Training Configuration](images/training_configuration.png)\n",
    "\n",
    "\n",
    "---\n"
   ]
  },
  {
   "cell_type": "markdown",
   "id": "05a97d4a",
   "metadata": {},
   "source": [
    "## Load Dataset"
   ]
  },
  {
   "cell_type": "code",
   "execution_count": null,
   "id": "28f5c0d5",
   "metadata": {},
   "outputs": [],
   "source": [
    "ratings = pd.read_csv(\"../two_towers/data/ml-1m/ratings.dat\", sep=\"::\", header=None, engine='python')\n",
    "ratings.columns = [\"user_id\", \"movie_id\", \"rating\", \"timestamp\"]\n",
    "\n",
    "movies = pd.read_csv(\"../two_towers/data/ml-1m/movies.dat\", sep=\"::\", header=None, engine='python')\n",
    "movies.columns = [\"movie_id\", \"title\", \"genres\"]\n",
    "\n",
    "users = pd.read_csv(\"../two_towers/data/ml-1m/users.dat\", sep=\"::\", header=None, engine='python')\n",
    "users.columns = [\"user_id\", \"gender\", \"age\", \"occupation\", \"zip_code\"]\n"
   ]
  },
  {
   "cell_type": "markdown",
   "id": "0e2d54ae",
   "metadata": {},
   "source": [
    "---\n",
    "\n",
    "\n",
    "**Dataset Characteristics**\n",
    "\n",
    "the movie lens dataset provides rich information about user preferences and movie characteristics:\n",
    "- The dataset composes of 1,000,209 ratings, 6,040 users, and 3,900 movies, consistent with the loaded files and `ratings.info()`.\n",
    "- The rating distribution on the original 1–5 scale before binarization. \n",
    "\n",
    "- Right column: user demographics (age bucket, gender, occupation) and movie attributes (title, multi‑label genres, release year) that feed feature engineering.\n",
    "- Flow arrows: demographics → categorical embeddings; title text → 768‑D language embedding; genres → multi‑hot vector; fused into the movie feature vector.\n",
    " <div style=\"width:800px\">\n",
    " <img src=\"images/dataset_eda.png\" alt=\"Dataset Statistics\" style=\"width:100%;\">\n",
    " </div>\n"
   ]
  },
  {
   "cell_type": "markdown",
   "id": "b7c059a0",
   "metadata": {},
   "source": [
    "## Preprocess Data"
   ]
  },
  {
   "cell_type": "markdown",
   "id": "ad5dfc2d",
   "metadata": {},
   "source": [
    "- Sample data"
   ]
  },
  {
   "cell_type": "code",
   "execution_count": null,
   "id": "01a92d57",
   "metadata": {},
   "outputs": [],
   "source": [
    "if SAMPLE:\n",
    "    rand_userIds = np.random.choice(ratings['user_id'].unique(),\n",
    "                                size=int(len(ratings['user_id'].unique())*0.1),\n",
    "                                replace=False)\n",
    "    ratings = ratings.loc[ratings['user_id'].isin(rand_userIds)]\n"
   ]
  },
  {
   "cell_type": "markdown",
   "id": "6f78a759",
   "metadata": {},
   "source": [
    "- Develop features"
   ]
  },
  {
   "cell_type": "code",
   "execution_count": null,
   "id": "b30cc660",
   "metadata": {},
   "outputs": [
    {
     "name": "stdout",
     "output_type": "stream",
     "text": [
      "Preparing user and movie features...\n",
      "User feature dimension: 29\n",
      "Using device: cpu\n",
      "Encoding movie titles...\n",
      "Encoding movie genres...\n",
      "Normalizing movie embeddings...\n",
      "\n",
      "Feature preparation complete!\n",
      "User feature dimension: 29\n",
      "Movie feature dimension: 768\n"
     ]
    }
   ],
   "source": [
    "# Initialize feature processor and prepare features\n",
    "print(\"Preparing user and movie features...\")\n",
    "\n",
    "feature_processor = FeatureProcessor(debug=DEBUG)\n",
    "\n",
    "user_features_df = feature_processor.prepare_user_features(users)\n",
    "\n",
    "device = torch.device(\"cuda\" if torch.cuda.is_available() else \"cpu\")\n",
    "\n",
    "print(f\"Using device: {device}\")\n",
    "movie_embeddings = feature_processor.prepare_movie_features(movies, device=device)\n",
    "\n",
    "print(f\"\\nFeature preparation complete!\")\n",
    "print(f\"User feature dimension: {feature_processor.user_feature_dim}\")\n",
    "print(f\"Movie feature dimension: {feature_processor.movie_feature_dim}\")\n"
   ]
  },
  {
   "cell_type": "markdown",
   "id": "3b07100f",
   "metadata": {},
   "source": [
    "- Check ratings dataset size"
   ]
  },
  {
   "cell_type": "code",
   "execution_count": null,
   "id": "5cc83867",
   "metadata": {},
   "outputs": [
    {
     "name": "stdout",
     "output_type": "stream",
     "text": [
      "<class 'pandas.core.frame.DataFrame'>\n",
      "RangeIndex: 1000209 entries, 0 to 1000208\n",
      "Data columns (total 4 columns):\n",
      " #   Column     Non-Null Count    Dtype\n",
      "---  ------     --------------    -----\n",
      " 0   user_id    1000209 non-null  int64\n",
      " 1   movie_id   1000209 non-null  int64\n",
      " 2   rating     1000209 non-null  int64\n",
      " 3   timestamp  1000209 non-null  int64\n",
      "dtypes: int64(4)\n",
      "memory usage: 30.5 MB\n"
     ]
    }
   ],
   "source": [
    "ratings.info()"
   ]
  },
  {
   "cell_type": "markdown",
   "id": "6346056a",
   "metadata": {},
   "source": [
    "- Set one leaving out validation for recommendation"
   ]
  },
  {
   "cell_type": "code",
   "execution_count": null,
   "id": "7f538cb3",
   "metadata": {},
   "outputs": [],
   "source": [
    "ratings['rank_latest'] = ratings.groupby(['user_id'])['timestamp'] \\\n",
    "                                .rank(method = 'first',ascending=False)\n",
    "\n",
    "# Training: Take all ratings except the last 2 (penultimate and latest)\n",
    "train_ratings = ratings[~ratings['rank_latest'].isin([1,2])]\n",
    "\n",
    "# Validation: Take the penultimate rating (rank = 2) \n",
    "validation_ratings = ratings[ratings['rank_latest'] == 2]\n",
    "\n",
    "# Test: Take the latest rating (rank = 1)\n",
    "test_ratings = ratings[ratings['rank_latest'] == 1]\n",
    "\n",
    "# drop columns that we no longer need \n",
    "train_ratings = train_ratings[['user_id', 'movie_id', 'rating']]\n",
    "validation_ratings = validation_ratings[['user_id', 'movie_id', 'rating']]  # Added this line\n",
    "test_ratings = test_ratings[['user_id','movie_id','rating']]"
   ]
  },
  {
   "cell_type": "code",
   "execution_count": null,
   "id": "bb2e6449",
   "metadata": {},
   "outputs": [
    {
     "data": {
      "text/plain": [
       "(988129, 6040, 6040)"
      ]
     },
     "execution_count": 163,
     "metadata": {},
     "output_type": "execute_result"
    }
   ],
   "source": [
    "train_ratings.shape[0] , validation_ratings.shape[0] , test_ratings.shape[0]"
   ]
  },
  {
   "cell_type": "code",
   "execution_count": null,
   "id": "228a99ef",
   "metadata": {},
   "outputs": [],
   "source": [
    "# set total global variables\n",
    "\n",
    "NUM_USERS = ratings['user_id'].max()+1\n",
    "NUM_ITEMS = ratings['movie_id'].max()+1\n",
    "\n",
    "ALL_MOVIEIDS = ratings['movie_id'].unique()"
   ]
  },
  {
   "cell_type": "markdown",
   "id": "4387ce92",
   "metadata": {},
   "source": [
    "## Pre-compute candidates generation"
   ]
  },
  {
   "cell_type": "code",
   "execution_count": null,
   "id": "3df34dd4",
   "metadata": {},
   "outputs": [],
   "source": [
    "candidate_gen = CandidateGenerator(train_ratings, movies, ALL_MOVIEIDS)"
   ]
  },
  {
   "cell_type": "code",
   "execution_count": null,
   "id": "43a44934",
   "metadata": {},
   "outputs": [
    {
     "name": "stdout",
     "output_type": "stream",
     "text": [
      "Precomputing training candidates for 6040 users...\n"
     ]
    },
    {
     "name": "stderr",
     "output_type": "stream",
     "text": [
      "Precomputing training candidates:   0%|          | 0/6040 [00:00<?, ?it/s]"
     ]
    },
    {
     "name": "stderr",
     "output_type": "stream",
     "text": [
      "Precomputing training candidates: 100%|██████████| 6040/6040 [00:29<00:00, 201.91it/s]"
     ]
    },
    {
     "name": "stdout",
     "output_type": "stream",
     "text": [
      "Precomputed training candidates for 6040 users\n"
     ]
    },
    {
     "name": "stderr",
     "output_type": "stream",
     "text": [
      "\n"
     ]
    }
   ],
   "source": [
    "train_candidates = candidate_gen.precompute_training_candidates(train_ratings, method=\"hybrid\")"
   ]
  },
  {
   "cell_type": "code",
   "execution_count": null,
   "id": "2a555y7g5r7",
   "metadata": {},
   "outputs": [
    {
     "name": "stdout",
     "output_type": "stream",
     "text": [
      "Precomputing validation candidates for 6040 users...\n"
     ]
    },
    {
     "name": "stderr",
     "output_type": "stream",
     "text": [
      "Precomputing validation candidates:   0%|          | 0/6040 [00:00<?, ?it/s]"
     ]
    },
    {
     "name": "stderr",
     "output_type": "stream",
     "text": [
      "Precomputing validation candidates: 100%|██████████| 6040/6040 [00:34<00:00, 175.68it/s]"
     ]
    },
    {
     "name": "stdout",
     "output_type": "stream",
     "text": [
      "Precomputed validation candidates for 6040 users\n"
     ]
    },
    {
     "name": "stderr",
     "output_type": "stream",
     "text": [
      "\n"
     ]
    }
   ],
   "source": [
    "validation_candidates =  candidate_gen.precompute_validation_candidates(validation_ratings, train_ratings, method=\"hybrid\", num_candidates=100)"
   ]
  },
  {
   "cell_type": "markdown",
   "id": "d272ee32",
   "metadata": {},
   "source": [
    "## Train Model"
   ]
  },
  {
   "cell_type": "markdown",
   "id": "f3731e95",
   "metadata": {},
   "source": [
    "### 📊 Key Performance Indicators\n",
    "\n",
    "The following metrics demonstrate our model's effectiveness:\n",
    "\n",
    "| Metric | Description | Performance Impact |\n",
    "|--------|-------------|-------------------|\n",
    "| **Hit Ratio @ 10** | Percentage of users with at least one relevant item in top-10 | Higher = Better user satisfaction |\n",
    "| **Mean Reciprocal Rank** | Average 1/rank of first relevant item | Higher = More precise recommendations |\n",
    "| **Mean Rank** | Average position of relevant items | Lower = Better ranking quality |\n",
    "| **Training Convergence** | Loss reduction over epochs | Stable = Good model learning |\n",
    "\n"
   ]
  },
  {
   "cell_type": "code",
   "execution_count": null,
   "id": "d21e05e9",
   "metadata": {},
   "outputs": [
    {
     "name": "stdout",
     "output_type": "stream",
     "text": [
      "Generating training dataset with precomputed candidates\n"
     ]
    },
    {
     "name": "stderr",
     "output_type": "stream",
     "text": [
      "Processing users: 100%|██████████| 6040/6040 [00:04<00:00, 1496.25it/s]\n"
     ]
    },
    {
     "name": "stdout",
     "output_type": "stream",
     "text": [
      "Generated 1582881 samples (988129 positive, 594752 negative)\n",
      "Negative-to-positive ratio: 0.60\n"
     ]
    },
    {
     "name": "stderr",
     "output_type": "stream",
     "text": [
      "Training:  10%|█         | 1/10 [00:38<05:44, 38.24s/it]"
     ]
    },
    {
     "name": "stdout",
     "output_type": "stream",
     "text": [
      "Epoch 1/10\n",
      "  Training Loss: 0.5459\n",
      "  Validation Loss: 0.4079\n",
      "  Hit Ratio @ 10: 0.342\n",
      "  MRR: 0.164\n",
      "  Mean Rank: 29.3\n",
      "--------------------------------------------------\n"
     ]
    },
    {
     "name": "stderr",
     "output_type": "stream",
     "text": [
      "Training:  20%|██        | 2/10 [01:16<05:07, 38.43s/it]"
     ]
    },
    {
     "name": "stdout",
     "output_type": "stream",
     "text": [
      "Epoch 2/10\n",
      "  Training Loss: 0.5316\n",
      "  Validation Loss: 0.4038\n",
      "  Hit Ratio @ 10: 0.392\n",
      "  MRR: 0.177\n",
      "  Mean Rank: 28.5\n",
      "--------------------------------------------------\n"
     ]
    },
    {
     "name": "stderr",
     "output_type": "stream",
     "text": [
      "Training:  30%|███       | 3/10 [01:55<04:28, 38.43s/it]"
     ]
    },
    {
     "name": "stdout",
     "output_type": "stream",
     "text": [
      "Epoch 3/10\n",
      "  Training Loss: 0.5264\n",
      "  Validation Loss: 0.4018\n",
      "  Hit Ratio @ 10: 0.394\n",
      "  MRR: 0.184\n",
      "  Mean Rank: 27.2\n",
      "--------------------------------------------------\n"
     ]
    },
    {
     "name": "stderr",
     "output_type": "stream",
     "text": [
      "Training:  40%|████      | 4/10 [02:33<03:50, 38.47s/it]"
     ]
    },
    {
     "name": "stdout",
     "output_type": "stream",
     "text": [
      "Epoch 4/10\n",
      "  Training Loss: 0.5235\n",
      "  Validation Loss: 0.4017\n",
      "  Hit Ratio @ 10: 0.436\n",
      "  MRR: 0.220\n",
      "  Mean Rank: 24.1\n",
      "--------------------------------------------------\n"
     ]
    },
    {
     "name": "stderr",
     "output_type": "stream",
     "text": [
      "Training:  50%|█████     | 5/10 [03:12<03:12, 38.56s/it]"
     ]
    },
    {
     "name": "stdout",
     "output_type": "stream",
     "text": [
      "Epoch 5/10\n",
      "  Training Loss: 0.5214\n",
      "  Validation Loss: 0.4244\n",
      "  Hit Ratio @ 10: 0.420\n",
      "  MRR: 0.192\n",
      "  Mean Rank: 25.7\n",
      "--------------------------------------------------\n"
     ]
    },
    {
     "name": "stderr",
     "output_type": "stream",
     "text": [
      "Training:  50%|█████     | 5/10 [03:50<03:50, 46.17s/it]\n"
     ]
    },
    {
     "name": "stdout",
     "output_type": "stream",
     "text": [
      "Epoch 6/10\n",
      "  Training Loss: 0.5198\n",
      "  Validation Loss: 0.4019\n",
      "  Hit Ratio @ 10: 0.430\n",
      "  MRR: 0.209\n",
      "  Mean Rank: 26.0\n",
      "--------------------------------------------------\n",
      "Early stopping triggered at epoch 6\n",
      "Best model was at epoch 5\n"
     ]
    }
   ],
   "source": [
    "\n",
    "if device is None:\n",
    "    device = torch.device(\"cuda\" if torch.cuda.is_available() else \"cpu\")\n",
    "\n",
    "model = NCF(\n",
    "    user_feature_dim=feature_processor.user_feature_dim,\n",
    "    movie_feature_dim=feature_processor.movie_feature_dim,\n",
    "    ratings=train_ratings,\n",
    "    feature_processor=feature_processor,\n",
    "    precomputed_candidates=train_candidates,\n",
    "    num_negatives=4\n",
    ")\n",
    "\n",
    "model = model.to(device)\n",
    "\n",
    "trainer = NCFTrainer(\n",
    "    model=model,\n",
    "    train_ratings=train_ratings,\n",
    "    validation_ratings=validation_ratings,\n",
    "    validation_candidates=validation_candidates,\n",
    "    feature_processor=feature_processor,\n",
    "    device=device,\n",
    "    patience=2,\n",
    "    min_delta=0.001,\n",
    ")\n",
    "\n",
    "training_results = trainer.train(\n",
    "    num_epochs=10,\n",
    "    batch_size=512,\n",
    "    verbose=True,\n",
    "    total_users_to_test=500,\n",
    ")\n"
   ]
  },
  {
   "cell_type": "code",
   "execution_count": null,
   "id": "eb35600f",
   "metadata": {},
   "outputs": [
    {
     "name": "stdout",
     "output_type": "stream",
     "text": [
      "Saving best model from epoch 5\n",
      "Model weights saved to models/best_ncf_model.pth\n",
      "Model saved to models/best_ncf_model.pth\n"
     ]
    }
   ],
   "source": [
    "trainer.save_model(\"models/best_ncf_model.pth\")"
   ]
  },
  {
   "cell_type": "code",
   "execution_count": null,
   "id": "6ac153fa",
   "metadata": {},
   "outputs": [
    {
     "name": "stdout",
     "output_type": "stream",
     "text": [
      "Metrics plot saved to training_metrics.png\n"
     ]
    },
    {
     "data": {
      "image/png": "[encoded data removed]",
      "text/plain": [
       "<Figure size 1500x1000 with 4 Axes>"
      ]
     },
     "metadata": {},
     "output_type": "display_data"
    }
   ],
   "source": [
    "trainer.plot_metrics(save_path=\"training_metrics.png\")"
   ]
  },
  {
   "cell_type": "code",
   "execution_count": null,
   "id": "d9638ab3",
   "metadata": {},
   "outputs": [
    {
     "name": "stdout",
     "output_type": "stream",
     "text": [
      "Precomputing validation candidates for 6040 users...\n"
     ]
    },
    {
     "name": "stderr",
     "output_type": "stream",
     "text": [
      "Precomputing validation candidates:   0%|          | 0/6040 [00:00<?, ?it/s]"
     ]
    },
    {
     "name": "stderr",
     "output_type": "stream",
     "text": [
      "Precomputing validation candidates: 100%|██████████| 6040/6040 [00:34<00:00, 175.04it/s]\n"
     ]
    },
    {
     "name": "stdout",
     "output_type": "stream",
     "text": [
      "Precomputed validation candidates for 6040 users\n",
      "Evaluating on test set...\n"
     ]
    },
    {
     "name": "stderr",
     "output_type": "stream",
     "text": [
      "Validating: 100%|██████████| 50/50 [00:01<00:00, 43.58it/s]"
     ]
    },
    {
     "name": "stdout",
     "output_type": "stream",
     "text": [
      "TEST SET RESULTS:\n",
      "Hit Ratio @ 10: 0.400\n",
      "Mean Rank: 28.1\n",
      "MRR: 0.166\n"
     ]
    },
    {
     "name": "stderr",
     "output_type": "stream",
     "text": [
      "\n"
     ]
    }
   ],
   "source": [
    "\n",
    "test_candidates = candidate_gen.precompute_validation_candidates(test_ratings, train_ratings, method=\"hybrid\", num_candidates=100)\n",
    "\n",
    "model.eval()\n",
    "with torch.no_grad():\n",
    "    print(f\"Evaluating on test set...\")\n",
    "    test_hit_ratio, test_mrr, test_mean_rank = validate_model_with_features(\n",
    "        model, test_ratings, test_candidates, device, \n",
    "        total_users_to_test=50, k=10\n",
    "    )\n",
    "\n",
    "print(f\"TEST SET RESULTS:\")\n",
    "print(f\"Hit Ratio @ 10: {test_hit_ratio:.3f}\")\n",
    "print(f\"Mean Rank: {test_mean_rank:.1f}\")\n",
    "print(f\"MRR: {test_mrr:.3f}\")\n"
   ]
  },
  {
   "cell_type": "markdown",
   "id": "d1e29c83",
   "metadata": {},
   "source": [
    "--\n",
    "\n",
    "# COLD START PROBLEM SOLUTION\n",
    "\n",
    "### Understanding the Cold Start Challenge\n",
    "\n",
    "The **Cold Start Problem** is one of the most significant challenges in recommendation systems. It occurs when we need to make recommendations for:\n",
    "\n",
    "- **New Users**: Users with no historical interaction data\n",
    "- **New Items**: Items with no user ratings or interactions\n",
    "- **New System**: Completely new recommendation system with minimal data\n",
    "\n",
    "### Our Cold Start Strategy\n",
    "\n",
    "Our implementation addresses the cold start problem through a sophisticated multi-layered approach:\n",
    "\n",
    "- The flow depicts three complementary paths used for a new user: demographic‑based profiling, content‑based scoring from movie features, and popularity priors. The outputs are fused to produce initial recommendations; onboarding movies are selected to maximize genre diversity and information gain.\n",
    "\n",
    "![Cold Start Strategy](images/cold_start.png)\n",
    "\n",
    "### Technical Implementation\n",
    "\n",
    "Our cold start solution leverages several advanced techniques:\n",
    "\n",
    "#### 1. **Demographic-Based Recommendations**\n",
    "- **User Profiling**: Age, gender, occupation, location analysis\n",
    "- **Similarity Matching**: Find users with similar demographics\n",
    "- **Preference Transfer**: Leverage preferences of similar user groups\n",
    "\n",
    "#### 2. **Content-Based Filtering**\n",
    "- **Movie Features**: Genre, title embeddings, metadata analysis\n",
    "- **Popularity Signals**: Incorporate overall movie popularity\n",
    "- **Hybrid Approach**: Combine multiple recommendation strategies\n",
    "\n",
    "#### 3. **Strategic Onboarding**\n",
    "- **Diverse Movie Selection**: Cover different genres and styles\n",
    "- **Quick Preference Learning**: Efficiently discover user tastes\n",
    "- **Minimal Friction**: Require minimal user effort for maximum information gain\n",
    "\n",
    "### Cold Start Performance Metrics\n",
    "\n",
    "| Scenario | Challenge | Our Solution | Expected Outcome |\n",
    "|----------|-----------|--------------|------------------|\n",
    "| **Pure Cold Start** | Zero user history | Demographic-based recommendations | Relevant suggestions based on user profile |\n",
    "| **Onboarding Phase** | Discover preferences quickly | Strategically selected diverse movies | Rapid preference learning |\n",
    "| **Warm Cold Start** | Limited interaction data | Combine demographics + sparse ratings | Improved recommendation accuracy |\n",
    "\n",
    "### Demonstration Scenarios\n",
    "\n",
    "We'll showcase three different cold start scenarios:\n",
    "\n",
    "1. **Pure Cold Start**: New user with only demographic information\n",
    "2. **Onboarding Movies**: Strategic movie selection for preference discovery  \n",
    "3. **Warm Cold Start**: User with initial ratings on onboarding movies\n",
    "4. **Demographic Comparison**: Different user profiles, different recommendations\n",
    "\n",
    "Each scenario demonstrates how our system adapts to different levels of available user information.\n",
    "\n",
    "---\n"
   ]
  },
  {
   "cell_type": "markdown",
   "id": "c2646ca7",
   "metadata": {},
   "source": [
    "## Load model"
   ]
  },
  {
   "cell_type": "code",
   "execution_count": null,
   "id": "759d320f",
   "metadata": {},
   "outputs": [
    {
     "name": "stdout",
     "output_type": "stream",
     "text": [
      "\n",
      "4. LOADING COMPLETE MODEL (CLASS METHOD)\n",
      "--------------------------------------------------\n",
      "Complete model loaded successfully from models/best_ncf_model.pth\n"
     ]
    }
   ],
   "source": [
    "# Demonstrate loading complete model using class method\n",
    "print(f\"\\n4. LOADING COMPLETE MODEL (CLASS METHOD)\")\n",
    "print(\"-\" * 50)\n",
    "\n",
    "loaded_model = NCF.load_model(\n",
    "    filepath=\"models/best_ncf_model.pth\",\n",
    "    ratings=train_ratings,\n",
    "    feature_processor=feature_processor,\n",
    "    precomputed_candidates=train_candidates,\n",
    "    num_negatives=4\n",
    ")\n"
   ]
  },
  {
   "cell_type": "code",
   "execution_count": 178,
   "id": "fc89c335",
   "metadata": {},
   "outputs": [
    {
     "name": "stdout",
     "output_type": "stream",
     "text": [
      "Cold Start Recommender initialized successfully!\n"
     ]
    }
   ],
   "source": [
    "\n",
    "# Initialize the cold start recommender with the trained model\n",
    "cold_start_recommender = ColdStartRecommender(\n",
    "    trained_model=loaded_model,\n",
    "    feature_processor=feature_processor,\n",
    "    candidate_generator=candidate_gen,\n",
    "    movies_df=movies\n",
    ")\n",
    "\n",
    "print(\"Cold Start Recommender initialized successfully!\")\n"
   ]
  },
  {
   "cell_type": "code",
   "execution_count": 179,
   "id": "736eaa57",
   "metadata": {},
   "outputs": [
    {
     "name": "stdout",
     "output_type": "stream",
     "text": [
      "================================================================================\n",
      "COLD START RECOMMENDATION SYSTEM DEMONSTRATION\n",
      "================================================================================\n",
      "\n",
      "1. PURE COLD START SCENARIO\n",
      "--------------------------------------------------\n",
      "New User Demographics: {'gender': 'M', 'age': 25, 'occupation': 4}\n",
      "\n",
      "Top 10 Cold Start Recommendations:\n",
      " 1. Time to Kill, A (1996)                             (Score: 0.945)\n",
      " 2. Beavis and Butt-head Do America (1996)             (Score: 0.937)\n",
      " 3. Naked Gun: From the Files of Police Squad!, The (1988) (Score: 0.933)\n",
      " 4. Secret Garden, The (1993)                          (Score: 0.933)\n",
      " 5. Waiting to Exhale (1995)                           (Score: 0.932)\n",
      " 6. City of Lost Children, The (1995)                  (Score: 0.932)\n",
      " 7. Private Benjamin (1980)                            (Score: 0.931)\n",
      " 8. Tarzan (1999)                                      (Score: 0.930)\n",
      " 9. Ace Ventura: When Nature Calls (1995)              (Score: 0.927)\n",
      "10. Rocky IV (1985)                                    (Score: 0.925)\n",
      "\n",
      "\n",
      "2. ONBOARDING MOVIES FOR RATING COLLECTION\n",
      "--------------------------------------------------\n",
      "Movies to show new user for initial ratings (diverse genres):\n",
      "1. American Beauty (1999)                   | Genres: Comedy|Drama\n",
      "2. Star Wars: Episode V - The Empire Strikes Back (1980) | Genres: Action|Adventure|Drama|Sci-Fi|War\n",
      "3. Star Wars: Episode IV - A New Hope (1977) | Genres: Action|Adventure|Fantasy|Sci-Fi\n",
      "4. Star Wars: Episode VI - Return of the Jedi (1983) | Genres: Action|Adventure|Romance|Sci-Fi|War\n",
      "5. Jurassic Park (1993)                     | Genres: Action|Adventure|Sci-Fi\n",
      "6. Saving Private Ryan (1998)               | Genres: Action|Drama|War\n",
      "7. E.T. the Extra-Terrestrial (1982)        | Genres: Children's|Drama|Fantasy|Sci-Fi\n",
      "8. Shakespeare in Love (1998)               | Genres: Comedy|Romance\n",
      "9. Terminator 2: Judgment Day (1991)        | Genres: Action|Sci-Fi|Thriller\n",
      "10. Fargo (1996)                             | Genres: Crime|Drama|Thriller\n",
      "11. Toy Story (1995)                         | Genres: Animation|Children's|Comedy\n",
      "12. L.A. Confidential (1997)                 | Genres: Crime|Film-Noir|Mystery|Thriller\n",
      "13. 2001: A Space Odyssey (1968)             | Genres: Drama|Mystery|Sci-Fi|Thriller\n",
      "14. Ghostbusters (1984)                      | Genres: Comedy|Horror\n",
      "15. Bug's Life, A (1998)                     | Genres: Animation|Children's|Comedy\n",
      "16. Wizard of Oz, The (1939)                 | Genres: Adventure|Children's|Drama|Musical\n",
      "\n",
      "\n",
      "3. WARM COLD START SCENARIO\n",
      "--------------------------------------------------\n",
      "User's initial ratings:\n",
      "  American Beauty (1999)                             - Rating: 5/5\n",
      "  Star Wars: Episode V - The Empire Strikes Back (1980) - Rating: 4/5\n",
      "  Jurassic Park (1993)                               - Rating: 4/5\n",
      "  Saving Private Ryan (1998)                         - Rating: 4/5\n",
      "  E.T. the Extra-Terrestrial (1982)                  - Rating: 4/5\n",
      "  Shakespeare in Love (1998)                         - Rating: 4/5\n",
      "\n",
      "Top 10 Recommendations after initial ratings:\n",
      " 1. Snow White and the Seven Dwarfs (1937)             (Score: 0.909)\n",
      " 2. Akira (1988)                                       (Score: 0.874)\n",
      " 3. Chicken Run (2000)                                 (Score: 0.726)\n",
      " 4. X-Men (2000)                                       (Score: 0.653)\n",
      " 5. Honey, I Shrunk the Kids (1989)                    (Score: 0.642)\n",
      " 6. Alien� (1992)                                      (Score: 0.611)\n",
      " 7. Edward Scissorhands (1990)                         (Score: 0.610)\n",
      " 8. Star Wars: Episode VI - Return of the Jedi (1983)  (Score: 0.601)\n",
      " 9. Star Wars: Episode IV - A New Hope (1977)          (Score: 0.601)\n",
      "10. Terminator 2: Judgment Day (1991)                  (Score: 0.582)\n",
      "\n",
      "\n",
      "4. COMPARISON: Different User Demographics\n",
      "--------------------------------------------------\n",
      "Different User Demographics: {'gender': 'F', 'age': 45, 'occupation': 0}\n",
      "\n",
      "Top 5 Recommendations for different demographic:\n",
      "1. Fatal Attraction (1987)                            (Score: 0.910)\n",
      "2. Strictly Ballroom (1992)                           (Score: 0.899)\n",
      "3. Blowup (1966)                                      (Score: 0.899)\n",
      "4. Naked Gun 2 1/2: The Smell of Fear, The (1991)     (Score: 0.899)\n",
      "5. Snow Falling on Cedars (1999)                      (Score: 0.895)\n",
      "\n",
      "================================================================================\n",
      "Cold Start Recommendation Demonstration Complete!\n",
      "================================================================================\n"
     ]
    }
   ],
   "source": [
    "# DEMONSTRATION: Cold Start Recommendation Examples\n",
    "\n",
    "print(\"=\"*80)\n",
    "print(\"COLD START RECOMMENDATION SYSTEM DEMONSTRATION\")\n",
    "print(\"=\"*80)\n",
    "\n",
    "# Example 1: Pure Cold Start - New user with only demographics\n",
    "print(\"\\n1. PURE COLD START SCENARIO\")\n",
    "print(\"-\" * 50)\n",
    "\n",
    "new_user_demographics = {\n",
    "    'gender': 'M',     # Male\n",
    "    'age': 25,         # 25 years old  \n",
    "    'occupation': 4    # College/grad student (based on MovieLens occupation codes)\n",
    "}\n",
    "\n",
    "print(f\"New User Demographics: {new_user_demographics}\")\n",
    "\n",
    "# Get recommendations without any ratings\n",
    "cold_start_recommendations = cold_start_recommender.recommend_for_new_user(\n",
    "    user_demographics=new_user_demographics,\n",
    "    user_ratings=None,  # No ratings yet\n",
    "    num_recommendations=10\n",
    ")\n",
    "\n",
    "print(f\"\\nTop 10 Cold Start Recommendations:\")\n",
    "for i, (movie_id, title, score) in enumerate(cold_start_recommendations, 1):\n",
    "    print(f\"{i:2d}. {title:<50} (Score: {score:.3f})\")\n",
    "\n",
    "# Example 2: Get onboarding movies for initial rating collection\n",
    "print(f\"\\n\\n2. ONBOARDING MOVIES FOR RATING COLLECTION\")\n",
    "print(\"-\" * 50)\n",
    "\n",
    "onboarding_movies = cold_start_recommender.get_onboarding_movies(num_movies=16)\n",
    "\n",
    "print(\"Movies to show new user for initial ratings (diverse genres):\")\n",
    "for i, (movie_id, title, genres) in enumerate(onboarding_movies, 1):\n",
    "    print(f\"{i}. {title:<40} | Genres: {genres}\")\n",
    "\n",
    "# Example 3: Warm Cold Start - User has provided some initial ratings\n",
    "print(f\"\\n\\n3. WARM COLD START SCENARIO\")\n",
    "print(\"-\" * 50)\n",
    "\n",
    "# Simulate user rating some of the onboarding movies\n",
    "initial_ratings = [\n",
    "    (onboarding_movies[0][0], 5),  # Loved the first movie\n",
    "    (onboarding_movies[1][0], 4),  # Liked the second movie\n",
    "    (onboarding_movies[4][0], 4),  # Liked the fourth movie\n",
    "    (onboarding_movies[5][0], 4),  # Liked the fourth movie\n",
    "    (onboarding_movies[6][0], 4),  # Liked the fourth movie\n",
    "    (onboarding_movies[7][0], 4),  # Liked the fourth movie\n",
    "]\n",
    "\n",
    "print(\"User's initial ratings:\")\n",
    "for movie_id, rating in initial_ratings:\n",
    "    movie_title = movies[movies['movie_id'] == movie_id]['title'].iloc[0]\n",
    "    print(f\"  {movie_title:<50} - Rating: {rating}/5\")\n",
    "\n",
    "# Get improved recommendations based on initial ratings\n",
    "warm_recommendations = cold_start_recommender.recommend_for_new_user(\n",
    "    user_demographics=new_user_demographics,\n",
    "    user_ratings=initial_ratings,\n",
    "    num_recommendations=10\n",
    ")\n",
    "\n",
    "print(f\"\\nTop 10 Recommendations after initial ratings:\")\n",
    "for i, (movie_id, title, score) in enumerate(warm_recommendations, 1):\n",
    "    print(f\"{i:2d}. {title:<50} (Score: {score:.3f})\")\n",
    "\n",
    "print(f\"\\n\\n4. COMPARISON: Different User Demographics\")\n",
    "print(\"-\" * 50)\n",
    "\n",
    "# Example with different demographics\n",
    "female_user_demographics = {\n",
    "    'gender': 'F',     # Female\n",
    "    'age': 45,         # 45 years old\n",
    "    'occupation': 0    # Other/not specified\n",
    "}\n",
    "\n",
    "print(f\"Different User Demographics: {female_user_demographics}\")\n",
    "\n",
    "female_recommendations = cold_start_recommender.recommend_for_new_user(\n",
    "    user_demographics=female_user_demographics,\n",
    "    user_ratings=None,\n",
    "    num_recommendations=5\n",
    ")\n",
    "\n",
    "print(f\"\\nTop 5 Recommendations for different demographic:\")\n",
    "for i, (movie_id, title, score) in enumerate(female_recommendations, 1):\n",
    "    print(f\"{i}. {title:<50} (Score: {score:.3f})\")\n",
    "\n",
    "print(f\"\\n{'='*80}\")\n",
    "print(\"Cold Start Recommendation Demonstration Complete!\")\n",
    "print(f\"{'='*80}\")\n"
   ]
  }
 ],
 "metadata": {
  "kernelspec": {
   "display_name": "transformers",
   "language": "python",
   "name": "python3"
  },
  "language_info": {
   "codemirror_mode": {
    "name": "ipython",
    "version": 3
   },
   "file_extension": ".py",
   "mimetype": "text/x-python",
   "name": "python",
   "nbconvert_exporter": "python",
   "pygments_lexer": "ipython3",
   "version": "3.13.5"
  }
 },
 "nbformat": 4,
 "nbformat_minor": 5
}
